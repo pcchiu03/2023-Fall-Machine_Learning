{
 "cells": [
  {
   "cell_type": "markdown",
   "metadata": {},
   "source": [
    "# Pandas and NumPy\n",
    "\n",
    "* We could decompose a file into many files in 8 lines. This homework is to illustrate the power of Python. \n",
    "    * Life Is Short, Use Python. https://www.google.com/search?q=Life+Is+Short%2C+Use+Python.&tbm=isch&ved=2ahUKEwjUqtfUn9H8AhX-rXIEHRP0B-cQ2-cCegQIABAA&oq=Life+Is+Short%2C+Use+Python.&gs_lcp=CgNpbWcQAzIECCMQJzIECAAQHlCDBFiDBGCRC2gAcAB4AIABPIgBbpIBATKYAQCgAQGqAQtnd3Mtd2l6LWltZ8ABAQ&sclient=img&ei=IPfHY9SaB_7bytMPk-ifuA4&bih=525&biw=1163"
   ]
  },
  {
   "cell_type": "markdown",
   "metadata": {},
   "source": [
    "# 2(a)\n",
    "\n",
    "* Please use Spyder to open file HW_1_decomp.py which is available on the class webpage. After executing the file, it will decompose the file taetfp.xlsx into many files based on the column name “code.”"
   ]
  },
  {
   "cell_type": "code",
   "execution_count": 1,
   "metadata": {},
   "outputs": [],
   "source": [
    "#Number 2\n",
    "import pandas as pd\n",
    "import os\n",
    "\n",
    "if not os.path.exists('etf'): # if the directory does not exist\n",
    "    os.makedirs('etf')  # Create it. When copy and paste to Jyputer, please use the tab key for indentation.\n",
    "\n",
    "# read the excel file taetfp.xlsx\"\n",
    "df = pd.read_excel(\"taetfp.xlsx\") \n",
    "\n",
    "# Find the unique etf in the column \"code\"\n",
    "# That is,  [50,51,52, … \n",
    "stockNumber = df.code.unique() # numpy.ndarray\n",
    "\n",
    "# Save the separate files under the directory etf generated in the above.\n",
    "for i in stockNumber: # [50,51,52, …\n",
    "     df[ df['code'] == i ].to_excel('etf\\\\ETF' + str(i) + '.xlsx')"
   ]
  },
  {
   "cell_type": "markdown",
   "metadata": {},
   "source": [
    "# 2b\n",
    "\n",
    "* Please decompose the file taetfp.xlsx by using the column name “day.” In this part, you need to change the name of the new directory for the output files and the column name to be decomposed. When you switch to the file manager, you will see the output files. It is OK to scream!  When you finish the result, please copy your python file into Jupyter notebook.\n",
    "    * I knew the information of a competition when I surfed Facebook and downloaded the file from the website for the competition several years ago. I was learning Python myself during that period of time. It took me some time to figure out the codes and I still remembered that excited moment. "
   ]
  },
  {
   "cell_type": "code",
   "execution_count": 3,
   "metadata": {},
   "outputs": [],
   "source": [
    "if not os.path.exists('day'): # if the directory does not exist\n",
    "    os.makedirs('day')  # Create it. When copy and paste to Jyputer, please use the tab key for indentation.\n",
    "\n",
    "# read the excel file taetfp.xlsx\"\n",
    "df = pd.read_excel(\"taetfp.xlsx\") \n",
    "\n",
    "# Find the unique day in the column \"day\"\n",
    "# That is,  [50,51,52, … \n",
    "unique_days = df.day.unique() # numpy.ndarray\n",
    "\n",
    "# Save the separate files under the directory day generated in the above.\n",
    "for i in unique_days: \n",
    "     df[ df['day'] == i ].to_excel('day\\\\DAY' + str(i) + '.xlsx')\n",
    "        \n",
    "# This will create 1337 individual excel files; one for each unique day."
   ]
  },
  {
   "cell_type": "code",
   "execution_count": null,
   "metadata": {},
   "outputs": [],
   "source": []
  }
 ],
 "metadata": {
  "kernelspec": {
   "display_name": "Python 3 (ipykernel)",
   "language": "python",
   "name": "python3"
  },
  "language_info": {
   "codemirror_mode": {
    "name": "ipython",
    "version": 3
   },
   "file_extension": ".py",
   "mimetype": "text/x-python",
   "name": "python",
   "nbconvert_exporter": "python",
   "pygments_lexer": "ipython3",
   "version": "3.10.9"
  }
 },
 "nbformat": 4,
 "nbformat_minor": 4
}
