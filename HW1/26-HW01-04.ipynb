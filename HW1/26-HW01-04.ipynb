{
 "cells": [
  {
   "cell_type": "markdown",
   "metadata": {},
   "source": [
    "# 4 Function call\n",
    "\n",
    "* The functions are used to decompose a big problem into smaller problems. It is also easier to debug a smaller program.\n",
    "* We use a lot of Python functions in this homework, e.g., pandas.read_csv(), plt.plot(  , ). "
   ]
  },
  {
   "cell_type": "markdown",
   "metadata": {},
   "source": [
    "# 4a\n",
    "\n",
    "* Given 2 numbers a and b, please write a function named functionCall to compute its product and summation and return these 2 values. \n",
    "    * Hint: Please search “Return Values and return Statements” in the file lec02 Introduction to python.ipynb and take a look at the example."
   ]
  },
  {
   "cell_type": "code",
   "execution_count": 1,
   "metadata": {},
   "outputs": [],
   "source": [
    "def functionCall( a , b ):\n",
    "    my_product =  a * b   #my_product is the product of the two numbers\n",
    "    my_sum =  a + b  #my_sum is the sum of the two numbers\n",
    "    return my_product, my_sum"
   ]
  },
  {
   "cell_type": "markdown",
   "metadata": {},
   "source": [
    "# 4b\n",
    "\n",
    "* Please use an example functionCall(2.111, 3) to illustrate the function call and print the returned values."
   ]
  },
  {
   "cell_type": "code",
   "execution_count": 2,
   "metadata": {},
   "outputs": [
    {
     "name": "stdout",
     "output_type": "stream",
     "text": [
      "product of 2.111000 and 3.000000 is 6.333000\n",
      "summation of 2.111000 and 3.000000 is 5.111000\n"
     ]
    }
   ],
   "source": [
    "a, b = 2.111 , 3 \n",
    "product, summation = functionCall(a, b) \n",
    "print(\"product of %f and %f is %f\" % (a, b, product))\n",
    "print(\"summation of %f and %f is %f\" % (a, b, summation))"
   ]
  },
  {
   "cell_type": "code",
   "execution_count": null,
   "metadata": {},
   "outputs": [],
   "source": []
  }
 ],
 "metadata": {
  "kernelspec": {
   "display_name": " /Users/pao/Library/Jupyter/kernels/env_name",
   "language": "python",
   "name": "env_name"
  },
  "language_info": {
   "codemirror_mode": {
    "name": "ipython",
    "version": 3
   },
   "file_extension": ".py",
   "mimetype": "text/x-python",
   "name": "python",
   "nbconvert_exporter": "python",
   "pygments_lexer": "ipython3",
   "version": "3.10.9"
  }
 },
 "nbformat": 4,
 "nbformat_minor": 4
}
